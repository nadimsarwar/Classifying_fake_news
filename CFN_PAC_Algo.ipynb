{
 "cells": [
  {
   "cell_type": "markdown",
   "id": "bb67d8e0",
   "metadata": {},
   "source": [
    "''' Created on Tue jan 25 01:09 PM 2022\n",
    "\n",
    "@author: Md. Nadim Sarwar\n",
    "\n",
    "'''"
   ]
  },
  {
   "cell_type": "markdown",
   "id": "e0a7f811",
   "metadata": {},
   "source": [
    "# Classifying fake news with Passive Aggressive Classifier Algorithm"
   ]
  },
  {
   "cell_type": "markdown",
   "id": "f331977f",
   "metadata": {},
   "source": [
    "# Importing Libraries"
   ]
  },
  {
   "cell_type": "code",
   "execution_count": 12,
   "id": "4957aa79",
   "metadata": {},
   "outputs": [],
   "source": [
    "import numpy as np\n",
    "import pandas as pd\n",
    "import re\n",
    "from nltk.stem import WordNetLemmatizer\n",
    "from nltk.corpus import stopwords\n",
    "from sklearn.feature_extraction.text import CountVectorizer\n",
    "from sklearn.linear_model import PassiveAggressiveClassifier\n",
    "from sklearn import metrics"
   ]
  },
  {
   "cell_type": "markdown",
   "id": "703cccbf",
   "metadata": {},
   "source": [
    "# Reading data"
   ]
  },
  {
   "cell_type": "code",
   "execution_count": 3,
   "id": "25601a2e",
   "metadata": {},
   "outputs": [],
   "source": [
    "train_data = pd.read_csv('train.csv')\n",
    "test_data = pd.read_csv('test.csv')\n",
    "test_label = pd.read_csv('test_label.csv')\n",
    "\n",
    "train_data.reset_index(inplace=True) #indexing\n",
    "test_data.reset_index(inplace=True)"
   ]
  },
  {
   "cell_type": "markdown",
   "id": "fab1c976",
   "metadata": {},
   "source": [
    "# Cleaning part"
   ]
  },
  {
   "cell_type": "code",
   "execution_count": 4,
   "id": "5df2bbb0",
   "metadata": {},
   "outputs": [],
   "source": [
    "wn = WordNetLemmatizer()\n",
    "lst_train_data = []\n",
    "lst_test_data = []\n",
    "\n",
    "for i in range(0, len(train_data)):\n",
    "    text_1 = re.sub('[^a-zA-Z]', ' ', str(train_data['title'][i]))\n",
    "    text_1 = text_1.lower()\n",
    "    text_1 = text_1.split()\n",
    "    text_1 = [wn.lemmatize(word_1) for word_1 in text_1 if not word_1 in stopwords.words('english')]\n",
    "    text_1 = ' '.join(text_1)\n",
    "    lst_train_data.append(text_1)\n",
    "    \n",
    "for i in range(0, len(test_data)):\n",
    "    text_2 = re.sub('[^a-zA-Z]', ' ', str(test_data['title'][i]))\n",
    "    text_2 = text_2.lower()\n",
    "    text_2 = text_2.split()\n",
    "    text_2 = [wn.lemmatize(word_2) for word_2 in text_2 if not word_2 in stopwords.words('english')]\n",
    "    text_2 = ' '.join(text_2)\n",
    "    lst_test_data.append(text_2)"
   ]
  },
  {
   "cell_type": "markdown",
   "id": "6a813ff3",
   "metadata": {},
   "source": [
    "# Applying Bag_of_words"
   ]
  },
  {
   "cell_type": "code",
   "execution_count": 5,
   "id": "27bef364",
   "metadata": {},
   "outputs": [],
   "source": [
    "cv = CountVectorizer(max_features=5000,ngram_range=(1,3))\n",
    "\n",
    "x_train_data = cv.fit_transform(lst_train_data).toarray()\n",
    "x_test_data = cv.fit_transform(lst_test_data).toarray()\n",
    "\n",
    "y_train_data = train_data['label']\n",
    "y_test_data = test_label['label']"
   ]
  },
  {
   "cell_type": "markdown",
   "id": "963fa870",
   "metadata": {},
   "source": [
    "# Using Passive Aggressive Classifier Algorithm"
   ]
  },
  {
   "cell_type": "code",
   "execution_count": 10,
   "id": "5729fa24",
   "metadata": {},
   "outputs": [
    {
     "data": {
      "text/plain": [
       "PassiveAggressiveClassifier(n_iter_no_change=50)"
      ]
     },
     "execution_count": 10,
     "metadata": {},
     "output_type": "execute_result"
    }
   ],
   "source": [
    "classifier = PassiveAggressiveClassifier(n_iter_no_change=50)\n",
    "classifier.fit(x_train_data, y_train_data)"
   ]
  },
  {
   "cell_type": "markdown",
   "id": "dc2d1abb",
   "metadata": {},
   "source": [
    "# Accuracy and Confusion matrix"
   ]
  },
  {
   "cell_type": "code",
   "execution_count": 11,
   "id": "edaa5377",
   "metadata": {},
   "outputs": [
    {
     "name": "stdout",
     "output_type": "stream",
     "text": [
      "Accuracy =  0.5682692307692307\n",
      "[[ 723 1616]\n",
      " [ 629 2232]]\n"
     ]
    }
   ],
   "source": [
    "pred = classifier.predict(x_test_data)\n",
    "acc = metrics.accuracy_score(y_test_data,pred)\n",
    "cm = metrics.confusion_matrix(y_test_data, pred)\n",
    "print('Accuracy = ',acc)\n",
    "print(cm)"
   ]
  },
  {
   "cell_type": "code",
   "execution_count": null,
   "id": "62b9b0da",
   "metadata": {},
   "outputs": [],
   "source": []
  }
 ],
 "metadata": {
  "kernelspec": {
   "display_name": "Python 3 (ipykernel)",
   "language": "python",
   "name": "python3"
  },
  "language_info": {
   "codemirror_mode": {
    "name": "ipython",
    "version": 3
   },
   "file_extension": ".py",
   "mimetype": "text/x-python",
   "name": "python",
   "nbconvert_exporter": "python",
   "pygments_lexer": "ipython3",
   "version": "3.7.11"
  }
 },
 "nbformat": 4,
 "nbformat_minor": 5
}
