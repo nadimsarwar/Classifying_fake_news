{
 "cells": [
  {
   "cell_type": "code",
   "execution_count": 8,
   "id": "4e3f1848",
   "metadata": {},
   "outputs": [],
   "source": [
    "import numpy as np\n",
    "import pandas as pd\n",
    "import re\n",
    "from nltk.stem import WordNetLemmatizer\n",
    "from nltk.corpus import stopwords\n",
    "from sklearn.feature_extraction.text import CountVectorizer\n",
    "from sklearn.linear_model import PassiveAggressiveClassifier\n",
    "from sklearn import metrics"
   ]
  },
  {
   "cell_type": "code",
   "execution_count": 9,
   "id": "6e5d5486",
   "metadata": {},
   "outputs": [],
   "source": [
    "train_data = pd.read_csv('train.csv')\n",
    "train_data.reset_index(inplace=True)"
   ]
  },
  {
   "cell_type": "code",
   "execution_count": 10,
   "id": "ec0ac7eb",
   "metadata": {},
   "outputs": [],
   "source": [
    "wn = WordNetLemmatizer()\n",
    "lst_train_data = []\n",
    "for i in range(0, len(train_data)):\n",
    "    text_1 = re.sub('[^a-zA-Z]', ' ', str(train_data['title'][i]))\n",
    "    text_1 = text_1.lower()\n",
    "    text_1 = text_1.split()\n",
    "    text_1 = [wn.lemmatize(word_1) for word_1 in text_1 if not word_1 in stopwords.words('english')]\n",
    "    text_1 = ' '.join(text_1)\n",
    "    lst_train_data.append(text_1)"
   ]
  },
  {
   "cell_type": "code",
   "execution_count": 11,
   "id": "565d2c32",
   "metadata": {},
   "outputs": [],
   "source": [
    "cv = CountVectorizer(max_features=5000,ngram_range=(1,3))\n",
    "\n",
    "x_train_data = cv.fit_transform(lst_train_data).toarray()\n",
    "y_train_data = train_data['label']"
   ]
  },
  {
   "cell_type": "code",
   "execution_count": 12,
   "id": "faa4c018",
   "metadata": {},
   "outputs": [],
   "source": [
    "from sklearn.model_selection import train_test_split\n",
    "X_train, X_test, y_train, y_test = train_test_split(x_train_data, y_train_data, test_size=0.33, random_state=0)"
   ]
  },
  {
   "cell_type": "code",
   "execution_count": 7,
   "id": "27b35494",
   "metadata": {},
   "outputs": [
    {
     "name": "stdout",
     "output_type": "stream",
     "text": [
      "0.921037296037296\n"
     ]
    }
   ],
   "source": [
    "linear_clf = PassiveAggressiveClassifier(n_iter_no_change=50)\n",
    "linear_clf.fit(X_train, y_train)\n",
    "pred = linear_clf.predict(X_test)\n",
    "score = metrics.accuracy_score(y_test, pred)\n",
    "print(score)"
   ]
  },
  {
   "cell_type": "markdown",
   "id": "ed838092",
   "metadata": {},
   "source": [
    "# Another Algo"
   ]
  },
  {
   "cell_type": "code",
   "execution_count": 13,
   "id": "64677fe1",
   "metadata": {},
   "outputs": [],
   "source": [
    "from sklearn.naive_bayes import MultinomialNB\n",
    "classifier=MultinomialNB(alpha=0.1)"
   ]
  },
  {
   "cell_type": "code",
   "execution_count": 14,
   "id": "f4d89c67",
   "metadata": {},
   "outputs": [
    {
     "name": "stderr",
     "output_type": "stream",
     "text": [
      "/home/erion/anaconda3/envs/env/lib/python3.7/site-packages/sklearn/naive_bayes.py:557: UserWarning: alpha too small will result in numeric errors, setting alpha = 1.0e-10\n",
      "  % _ALPHA_MIN\n"
     ]
    },
    {
     "name": "stdout",
     "output_type": "stream",
     "text": [
      "Alpha: 0.0, Score : 0.8868006993006993\n",
      "Alpha: 0.1, Score : 0.898455710955711\n",
      "Alpha: 0.2, Score : 0.8988927738927739\n",
      "Alpha: 0.30000000000000004, Score : 0.8996212121212122\n",
      "Alpha: 0.4, Score : 0.900495337995338\n",
      "Alpha: 0.5, Score : 0.900495337995338\n",
      "Alpha: 0.6000000000000001, Score : 0.9006410256410257\n",
      "Alpha: 0.7000000000000001, Score : 0.900495337995338\n",
      "Alpha: 0.8, Score : 0.9009324009324009\n",
      "Alpha: 0.9, Score : 0.9012237762237763\n"
     ]
    }
   ],
   "source": [
    "previous_score=0\n",
    "for alpha in np.arange(0,1,0.1):\n",
    "    sub_classifier=MultinomialNB(alpha=alpha)\n",
    "    sub_classifier.fit(X_train,y_train)\n",
    "    y_pred=sub_classifier.predict(X_test)\n",
    "    score = metrics.accuracy_score(y_test, y_pred)\n",
    "    if score>previous_score:\n",
    "        classifier=sub_classifier\n",
    "    print(\"Alpha: {}, Score : {}\".format(alpha,score))"
   ]
  },
  {
   "cell_type": "code",
   "execution_count": null,
   "id": "aac895a0",
   "metadata": {},
   "outputs": [],
   "source": []
  }
 ],
 "metadata": {
  "kernelspec": {
   "display_name": "Python 3 (ipykernel)",
   "language": "python",
   "name": "python3"
  },
  "language_info": {
   "codemirror_mode": {
    "name": "ipython",
    "version": 3
   },
   "file_extension": ".py",
   "mimetype": "text/x-python",
   "name": "python",
   "nbconvert_exporter": "python",
   "pygments_lexer": "ipython3",
   "version": "3.7.11"
  }
 },
 "nbformat": 4,
 "nbformat_minor": 5
}
