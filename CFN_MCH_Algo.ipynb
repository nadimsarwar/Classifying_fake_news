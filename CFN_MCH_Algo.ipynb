{
 "cells": [
  {
   "cell_type": "markdown",
   "id": "cb7e3467",
   "metadata": {},
   "source": [
    "''' Created on Tue jan 26 03:42 PM 2022\n",
    "\n",
    "@author: Md. Nadim Sarwar\n",
    "\n",
    "'''"
   ]
  },
  {
   "cell_type": "markdown",
   "id": "8d717f56",
   "metadata": {},
   "source": [
    "# Classifying fake news using Multinomial Classifier with Hyperparameter"
   ]
  },
  {
   "cell_type": "markdown",
   "id": "577b666a",
   "metadata": {},
   "source": [
    "# Importing Libraries"
   ]
  },
  {
   "cell_type": "code",
   "execution_count": 1,
   "id": "2d4b6f23",
   "metadata": {},
   "outputs": [],
   "source": [
    "import numpy as np\n",
    "import pandas as pd\n",
    "import re\n",
    "from nltk.stem import WordNetLemmatizer\n",
    "from nltk.corpus import stopwords\n",
    "from sklearn.feature_extraction.text import CountVectorizer\n",
    "from sklearn.naive_bayes import MultinomialNB\n",
    "from sklearn import metrics"
   ]
  },
  {
   "cell_type": "markdown",
   "id": "8086a700",
   "metadata": {},
   "source": [
    "# Reading data"
   ]
  },
  {
   "cell_type": "code",
   "execution_count": 2,
   "id": "9ce170c8",
   "metadata": {},
   "outputs": [],
   "source": [
    "train_data = pd.read_csv('train.csv')\n",
    "test_data = pd.read_csv('test.csv')\n",
    "test_label = pd.read_csv('test_label.csv')\n",
    "\n",
    "train_data.reset_index(inplace=True) #indexing\n",
    "test_data.reset_index(inplace=True)"
   ]
  },
  {
   "cell_type": "markdown",
   "id": "ce2d6df0",
   "metadata": {},
   "source": [
    "# Cleaning part"
   ]
  },
  {
   "cell_type": "code",
   "execution_count": 3,
   "id": "291192ee",
   "metadata": {},
   "outputs": [],
   "source": [
    "wn = WordNetLemmatizer()\n",
    "lst_train_data = []\n",
    "lst_test_data = []\n",
    "\n",
    "for i in range(0, len(train_data)):\n",
    "    text_1 = re.sub('[^a-zA-Z]', ' ', str(train_data['title'][i]))\n",
    "    text_1 = text_1.lower()\n",
    "    text_1 = text_1.split()\n",
    "    text_1 = [wn.lemmatize(word_1) for word_1 in text_1 if not word_1 in stopwords.words('english')]\n",
    "    text_1 = ' '.join(text_1)\n",
    "    lst_train_data.append(text_1)\n",
    "    \n",
    "for i in range(0, len(test_data)):\n",
    "    text_2 = re.sub('[^a-zA-Z]', ' ', str(test_data['title'][i]))\n",
    "    text_2 = text_2.lower()\n",
    "    text_2 = text_2.split()\n",
    "    text_2 = [wn.lemmatize(word_2) for word_2 in text_2 if not word_2 in stopwords.words('english')]\n",
    "    text_2 = ' '.join(text_2)\n",
    "    lst_test_data.append(text_2)"
   ]
  },
  {
   "cell_type": "markdown",
   "id": "ec9ab764",
   "metadata": {},
   "source": [
    "# Applying Bag_of_words"
   ]
  },
  {
   "cell_type": "code",
   "execution_count": 4,
   "id": "8618714c",
   "metadata": {},
   "outputs": [],
   "source": [
    "cv = CountVectorizer(max_features=5000,ngram_range=(1,3))\n",
    "\n",
    "x_train_data = cv.fit_transform(lst_train_data).toarray()\n",
    "x_test_data = cv.fit_transform(lst_test_data).toarray()\n",
    "\n",
    "y_train_data = train_data['label']\n",
    "y_test_data = test_label['label']"
   ]
  },
  {
   "cell_type": "markdown",
   "id": "6f6e0082",
   "metadata": {},
   "source": [
    "# Using Multinomial Classifier with Hyperparameter"
   ]
  },
  {
   "cell_type": "code",
   "execution_count": 11,
   "id": "6052c229",
   "metadata": {},
   "outputs": [
    {
     "name": "stderr",
     "output_type": "stream",
     "text": [
      "/home/erion/anaconda3/envs/env/lib/python3.7/site-packages/sklearn/naive_bayes.py:557: UserWarning: alpha too small will result in numeric errors, setting alpha = 1.0e-10\n",
      "  % _ALPHA_MIN\n"
     ]
    },
    {
     "name": "stdout",
     "output_type": "stream",
     "text": [
      "Alpha: 0, Accuracy : 0.6038461538461538\n",
      "Alpha: 10, Accuracy : 0.6848076923076923\n",
      "Alpha: 20, Accuracy : 0.7198076923076923\n",
      "Alpha: 30, Accuracy : 0.7273076923076923\n",
      "Alpha: 40, Accuracy : 0.7311538461538462\n",
      "Alpha: 50, Accuracy : 0.7325\n",
      "Alpha: 60, Accuracy : 0.7317307692307692\n",
      "Alpha: 70, Accuracy : 0.7305769230769231\n",
      "Alpha: 80, Accuracy : 0.7301923076923077\n",
      "Alpha: 90, Accuracy : 0.7301923076923077\n"
     ]
    }
   ],
   "source": [
    "clf=MultinomialNB(alpha=10)\n",
    "past_score=0\n",
    "for i in np.arange(0,100,10):\n",
    "    s_clf=MultinomialNB(alpha=i)\n",
    "    s_clf.fit(x_train_data,y_train_data)\n",
    "    pred=s_clf.predict(x_test_data)\n",
    "    acc = metrics.accuracy_score(y_test_data, pred)\n",
    "    if acc>past_score:\n",
    "        clf=s_clf\n",
    "    print(\"Alpha: {}, Accuracy : {}\".format(i,acc))\n",
    "# print(acc)"
   ]
  },
  {
   "cell_type": "code",
   "execution_count": null,
   "id": "90c4953f",
   "metadata": {},
   "outputs": [],
   "source": []
  },
  {
   "cell_type": "code",
   "execution_count": null,
   "id": "ddb36819",
   "metadata": {},
   "outputs": [],
   "source": []
  }
 ],
 "metadata": {
  "kernelspec": {
   "display_name": "Python 3 (ipykernel)",
   "language": "python",
   "name": "python3"
  },
  "language_info": {
   "codemirror_mode": {
    "name": "ipython",
    "version": 3
   },
   "file_extension": ".py",
   "mimetype": "text/x-python",
   "name": "python",
   "nbconvert_exporter": "python",
   "pygments_lexer": "ipython3",
   "version": "3.7.11"
  }
 },
 "nbformat": 4,
 "nbformat_minor": 5
}
